{
 "cells": [
  {
   "cell_type": "markdown",
   "id": "b6f47905",
   "metadata": {},
   "source": [
    "## Discrete Multivariate Distributions\n",
    "\n",
    "This notebook will show an example of \n",
    "\n",
    "This is called Naive Bayes classifier\n",
    "\n"
   ]
  },
  {
   "cell_type": "code",
   "execution_count": 31,
   "id": "c973b071",
   "metadata": {},
   "outputs": [
    {
     "data": {
      "text/html": [
       "<div>\n",
       "<style scoped>\n",
       "    .dataframe tbody tr th:only-of-type {\n",
       "        vertical-align: middle;\n",
       "    }\n",
       "\n",
       "    .dataframe tbody tr th {\n",
       "        vertical-align: top;\n",
       "    }\n",
       "\n",
       "    .dataframe thead th {\n",
       "        text-align: right;\n",
       "    }\n",
       "</style>\n",
       "<table border=\"1\" class=\"dataframe\">\n",
       "  <thead>\n",
       "    <tr style=\"text-align: right;\">\n",
       "      <th></th>\n",
       "      <th>text</th>\n",
       "      <th>spam</th>\n",
       "    </tr>\n",
       "  </thead>\n",
       "  <tbody>\n",
       "    <tr>\n",
       "      <th>0</th>\n",
       "      <td>Subject: naturally irresistible your corporate...</td>\n",
       "      <td>1</td>\n",
       "    </tr>\n",
       "    <tr>\n",
       "      <th>1</th>\n",
       "      <td>Subject: the stock trading gunslinger  fanny i...</td>\n",
       "      <td>1</td>\n",
       "    </tr>\n",
       "    <tr>\n",
       "      <th>2</th>\n",
       "      <td>Subject: unbelievable new homes made easy  im ...</td>\n",
       "      <td>1</td>\n",
       "    </tr>\n",
       "    <tr>\n",
       "      <th>3</th>\n",
       "      <td>Subject: 4 color printing special  request add...</td>\n",
       "      <td>1</td>\n",
       "    </tr>\n",
       "    <tr>\n",
       "      <th>4</th>\n",
       "      <td>Subject: do not have money , get software cds ...</td>\n",
       "      <td>1</td>\n",
       "    </tr>\n",
       "  </tbody>\n",
       "</table>\n",
       "</div>"
      ],
      "text/plain": [
       "                                                text  spam\n",
       "0  Subject: naturally irresistible your corporate...     1\n",
       "1  Subject: the stock trading gunslinger  fanny i...     1\n",
       "2  Subject: unbelievable new homes made easy  im ...     1\n",
       "3  Subject: 4 color printing special  request add...     1\n",
       "4  Subject: do not have money , get software cds ...     1"
      ]
     },
     "execution_count": 31,
     "metadata": {},
     "output_type": "execute_result"
    }
   ],
   "source": [
    "import pandas as pd\n",
    "emails = pd.read_csv(\"./data/emails.csv\")\n",
    "emails.head()"
   ]
  },
  {
   "cell_type": "code",
   "execution_count": 60,
   "id": "2004d6d0",
   "metadata": {},
   "outputs": [
    {
     "name": "stderr",
     "output_type": "stream",
     "text": [
      "C:\\Users\\sdamo\\AppData\\Local\\Temp\\ipykernel_14976\\589604743.py:6: FutureWarning: The default value of regex will change from True to False in a future version.\n",
      "  emails.text.str.replace( r'(Subject: )|(re :)',\"\")\n"
     ]
    },
    {
     "data": {
      "text/plain": [
       "0       naturally irresistible your corporate identity...\n",
       "1       the stock trading gunslinger  fanny is merrill...\n",
       "2       unbelievable new homes made easy  im wanting t...\n",
       "3       4 color printing special  request additional i...\n",
       "4       do not have money , get software cds from here...\n",
       "                              ...                        \n",
       "5723     research and development charges to gpg  here...\n",
       "5724     receipts from visit  jim ,  thanks again for ...\n",
       "5725     enron case study update  wow ! all on the sam...\n",
       "5726     interest  david ,  please , call shirley cren...\n",
       "5727    news : aurora 5 . 2 update  aurora version 5 ....\n",
       "Name: text, Length: 5728, dtype: object"
      ]
     },
     "execution_count": 60,
     "metadata": {},
     "output_type": "execute_result"
    }
   ],
   "source": [
    "import re\n",
    "\n",
    "emails['text'][1]\n",
    "# a = re.sub(r'Subject: ',\"\",list(emails['text']))\n",
    "\n",
    "emails.text.str.replace( r'(Subject: )|(re :)',\"\")"
   ]
  },
  {
   "cell_type": "code",
   "execution_count": 74,
   "id": "d1d5ee2d",
   "metadata": {},
   "outputs": [
    {
     "data": {
      "text/plain": [
       "0       [Subject, :, naturally, irresistible, your, co...\n",
       "1       [Subject, :, the, stock, trading, gunslinger, ...\n",
       "2       [Subject, :, unbelievable, new, homes, made, e...\n",
       "3       [Subject, :, 4, color, printing, special, requ...\n",
       "4       [Subject, :, do, not, have, money, ,, get, sof...\n",
       "                              ...                        \n",
       "5723    [Subject, :, re, :, research, and, development...\n",
       "5724    [Subject, :, re, :, receipts, from, visit, jim...\n",
       "5725    [Subject, :, re, :, enron, case, study, update...\n",
       "5726    [Subject, :, re, :, interest, david, ,, please...\n",
       "5727    [Subject, :, news, :, aurora, 5, ., 2, update,...\n",
       "Name: text, Length: 5728, dtype: object"
      ]
     },
     "execution_count": 74,
     "metadata": {},
     "output_type": "execute_result"
    }
   ],
   "source": [
    "from nltk import word_tokenize\n",
    "\n",
    "tmp = emails.text.map(nltk.word_tokenize)\n",
    "tmp"
   ]
  },
  {
   "cell_type": "code",
   "execution_count": 71,
   "id": "8ea23d20",
   "metadata": {},
   "outputs": [
    {
     "name": "stderr",
     "output_type": "stream",
     "text": [
      "[nltk_data] Downloading package punkt to\n",
      "[nltk_data]     C:\\Users\\sdamo\\AppData\\Roaming\\nltk_data...\n",
      "[nltk_data]   Unzipping tokenizers\\punkt.zip.\n"
     ]
    },
    {
     "data": {
      "text/plain": [
       "True"
      ]
     },
     "execution_count": 71,
     "metadata": {},
     "output_type": "execute_result"
    }
   ],
   "source": [
    "import nltk\n",
    "nltk.download('punkt')"
   ]
  },
  {
   "cell_type": "code",
   "execution_count": null,
   "id": "a18ba242",
   "metadata": {},
   "outputs": [],
   "source": [
    "    "
   ]
  },
  {
   "cell_type": "code",
   "execution_count": 43,
   "id": "6b80c421",
   "metadata": {},
   "outputs": [],
   "source": [
    "? re.sub"
   ]
  }
 ],
 "metadata": {
  "kernelspec": {
   "display_name": "Python 3 (ipykernel)",
   "language": "python",
   "name": "python3"
  },
  "language_info": {
   "codemirror_mode": {
    "name": "ipython",
    "version": 3
   },
   "file_extension": ".py",
   "mimetype": "text/x-python",
   "name": "python",
   "nbconvert_exporter": "python",
   "pygments_lexer": "ipython3",
   "version": "3.9.12"
  }
 },
 "nbformat": 4,
 "nbformat_minor": 5
}
