{
 "cells": [
  {
   "cell_type": "markdown",
   "metadata": {},
   "source": [
    "## Counting \n",
    "\n",
    "Counting forms the basis of finite uniform probability measures, but is also fundamental to Discrete Mathematics and [Combinatorics](https://en.wikipedia.org/wiki/Combinatorics) in particular. In this notebook, we will be counting [graphs](https://en.wikipedia.org/wiki/Graph_(discrete_mathematics)) which are mathematical structures used to model pairwise *relationships* between *objects*. For example, a graph can represent a group of people and their friendships, i.e. a social network. The objects in a graph are called *nodes* or *vertices* and are represented by a *set* $V$, and their relations are called *edges* and are represented by a set of *pairs* of nodes  $E \\subseteq \\{ \\{i, j\\};  i,j \\in V \\}$. For this notebook we will use the [networkx](https://networkx.org/) package in Python to specify and visualize graphs, like the one below. (The package also contains a wealth of algorithms for working with graphs.)"
   ]
  },
  {
   "cell_type": "code",
   "execution_count": 1,
   "metadata": {},
   "outputs": [
    {
     "data": {
      "image/png": "[encoded data removed]",
      "text/plain": [
       "<Figure size 432x288 with 1 Axes>"
      ]
     },
     "metadata": {},
     "output_type": "display_data"
    }
   ],
   "source": [
    "import networkx as nx  \n",
    "G = nx.Graph()                           # initialize graph\n",
    "G.add_nodes_from( range(1,6) )           # add nodes\n",
    "G.add_edges_from( [{1,2}, {1,3}, {1,4},  # add edges \n",
    "                   {3,4}, {4,2}, {5,2} ])\n",
    "nx.draw(G, with_labels = True)          # draw graph"
   ]
  },
  {
   "cell_type": "markdown",
   "metadata": {},
   "source": [
    "The node/vertice set for this graph is $V = \\{1,2,3,4,5\\}$, and the edge set is $E=\\{ \\{1,2\\}, \\{1,3\\}, \\{1,4\\}, \\{2,4\\}, \\{2,5\\}, \\{3,4\\} \\}$. Alternatively, a graph may be specified by its [adjacency matrix](https://en.wikipedia.org/wiki/Adjacency_matrix), which is a square ($n \\times n$) matrix with $0/1$ values representing the presence/absence of an edge between the row and column indices. For example, the graph above has adjacency matrix:\n",
    "\n",
    "<img src=\"./img/2/adjacency_mat.svg\" alt=\"adjacency matrix\" width=\"200px\"/>"
   ]
  },
  {
   "cell_type": "code",
   "execution_count": 2,
   "metadata": {},
   "outputs": [
    {
     "data": {
      "text/plain": [
       "matrix([[0., 1., 1., 1., 0.],\n",
       "        [1., 0., 0., 1., 1.],\n",
       "        [1., 0., 0., 1., 0.],\n",
       "        [1., 1., 1., 0., 0.],\n",
       "        [0., 1., 0., 0., 0.]])"
      ]
     },
     "execution_count": 2,
     "metadata": {},
     "output_type": "execute_result"
    }
   ],
   "source": [
    "nx.to_numpy_matrix(G)"
   ]
  },
  {
   "cell_type": "markdown",
   "metadata": {},
   "source": [
    "Note that the matrix is *symmetric*, i.e. if there is an edge from $i$ to $j$, there is one from $j$ to $i$. Both perspectives (sets & adjacency matrices) will help us count the number of possible graphs of different types.\n",
    "\n",
    "#### Labeled Graphs\n",
    "\n",
    "We first look at graphs with *labeled/distinguishable* nodes, since they are easier to count. (In unlabeled graphs, node identities don't matter, only the edge structure.) \n",
    "\n",
    "##### Simple graph\n",
    "A simple graph has no repeated edges or loops (edges from a node to iteself). With $n$ nodes, there are a total of \n",
    "\n",
    "$$ 2^{ {n \\choose 2} } = 2^{n(n-1)/2} $$\n",
    "\n",
    "different graphs, since there are $ {n \\choose 2} $ possible pairs of nodes, and each can be an edge or not (2 choices for each pair). Another way to look at it is through the adjacency matrix: due to symmetry there are $n(n-1)/2$ uniquely determined off-diagonal elements (e.g. elements of the top-right triangle), with two options (0/1) each. Note that for this count, we do not require all nodes to be [connected](https://en.wikipedia.org/wiki/Connectivity_(graph_theory)).\n",
    "\n",
    "##### Loops\n",
    "If the graph contains [loops](https://en.wikipedia.org/wiki/Loop_(graph_theory)), then there are \n",
    "\n",
    "$$ 2^{ {n \\choose 2} + n } $$\n",
    "\n",
    "different graphs, since there are $n$ additional possible loop edges, i.e. pairs of the form $\\{i,i\\}$ (or diagonal elements of the adjacency matrix).\n",
    "\n",
    "##### Digraphs\n",
    "\n",
    "[Directed graphs](https://en.wikipedia.org/wiki/Directed_graph), or *digraphs*, are graphs whose edges are *directional*, i.e. we differentiate between an edge from $i$ to $j$ and an edge from $j$ to $i$. Directional edges are represented by *ordered* pairs of nodes, and drawn as *arrows*:"
   ]
  },
  {
   "cell_type": "code",
   "execution_count": 3,
   "metadata": {},
   "outputs": [
    {
     "data": {
      "image/png": "[encoded data removed]",
      "text/plain": [
       "<Figure size 432x288 with 1 Axes>"
      ]
     },
     "metadata": {},
     "output_type": "display_data"
    }
   ],
   "source": [
    "D = nx.DiGraph()\n",
    "D.add_nodes_from( range(1,3) )\n",
    "D.add_edges_from( [ (1,2), (1,3), (2,3), (3,1) ] )\n",
    "nx.draw(D, with_labels = True)"
   ]
  },
  {
   "cell_type": "markdown",
   "metadata": {},
   "source": [
    "The adjacency matrix of a digraph is no longer symmetric: the $(i,j)^{th}$ entry represents an arrow from $i$ to $j$, and vice-versa:"
   ]
  },
  {
   "cell_type": "code",
   "execution_count": 4,
   "metadata": {},
   "outputs": [
    {
     "data": {
      "text/plain": [
       "matrix([[0., 1., 1.],\n",
       "        [0., 0., 1.],\n",
       "        [1., 0., 0.]])"
      ]
     },
     "execution_count": 4,
     "metadata": {},
     "output_type": "execute_result"
    }
   ],
   "source": [
    "nx.to_numpy_matrix(D)"
   ]
  },
  {
   "cell_type": "markdown",
   "metadata": {},
   "source": [
    "Therefore, there are $2^{n(n-1)}$ possible labeled digraphs. "
   ]
  },
  {
   "cell_type": "markdown",
   "metadata": {},
   "source": [
    "##### Path Graphs\n",
    "\n",
    "A [path graph](https://en.wikipedia.org/wiki/Path_graph) connects all nodes in a \"sequence\", e.g.:\n"
   ]
  },
  {
   "cell_type": "code",
   "execution_count": 5,
   "metadata": {},
   "outputs": [
    {
     "data": {
      "image/png": "[encoded data removed]",
      "text/plain": [
       "<Figure size 432x288 with 1 Axes>"
      ]
     },
     "metadata": {},
     "output_type": "display_data"
    }
   ],
   "source": [
    "G.clear()\n",
    "G.add_nodes_from( range(1,3) )           \n",
    "G.add_edges_from( [{1,2}, {2,3} ])\n",
    "nx.draw(G, with_labels = True) "
   ]
  },
  {
   "cell_type": "markdown",
   "metadata": {},
   "source": [
    "The number of labeled path graphs is *not* equal to $n!$, i.e. the number of node arrangments (permutations). Note that the (undirected) graphs $(1-2-3)$ and $(3-2-1)$ are considered identical, i.e. there is no notion of start or finish. <br>\n",
    "Here we use an *overcounting* strategy to find the total number of labeled path graphs of $n$ nodes. The strategy involves counting more complex structures than required, and then adjusting the count by division or subtraction. In our case, there are $n!$ paths with specified beginning and end, and by dividing this count by 2 (for either direction) we get the desired result $\\frac{n!}{2}$.\n",
    "\n",
    "(Note: the number of *directed* path graphs, which have a natural beggining and end, is $n!$)."
   ]
  },
  {
   "cell_type": "markdown",
   "metadata": {},
   "source": [
    "#####  Bipartite Graphs\n",
    "\n",
    "A [bipartite graph](https://en.wikipedia.org/wiki/Bipartite_graph) (or bigraph) is one whose vertices can be partitioned into two sets $V_1, V_2$ so that is every edge only connects nodes *between* the sets\n",
    "\n",
    "<img src=\"./img/2/bigraph.png\" alt=\"bipartite graph\" width = \"200px\"/>\n",
    "\n",
    "The adjacency matrix of a bigraph has a special structure, with $0$'s within the disjoint sets of nodes, and possible $1$'s only between them:\n",
    "\n",
    "<img src=\"./img/2/bigraph_adj.png\" alt=\"bigraph_adjacency_matrix\" width = \"200px\"/>\n",
    "\n",
    "(The rows and columns of the matrix have been re-order so that the node sets appear contiguous, but that is not necessary.)\n",
    "\n",
    "\n",
    "For fixed $m \\in \\{1,\\ldots, n-1\\}$, there are ${n \\choose m}$ ways to partition $n$ nodes into sets of size $m$ and $n-m$,  and $m \\cdot (n-m)$ potential edges with 2 choices each (rectangle in adjacency matrix). Hence, there are ${n \\choose m} 2^{m(n-m)}$ such (labeled) bigraphs of sets sizes $m$ and $(n-m)$. Nevertheless, counting *all* bigraphs for all $m$ is more involved (e.g. a totally disconnected graph is a digraph for *any* value of $m$, and would therefore be over-counted).\n",
    "\n",
    "##### Complete Bipartite Graphs\n",
    "\n",
    "A [complete bigraph](https://en.wikipedia.org/wiki/Complete_bipartite_graph) has *every* node in one set connected to *every* node in the other set:\n",
    "\n",
    "<img src=\"./img/2/complete_bigraph.png\" alt=\"complete bipartite graph\" width = \"200px\"/>\n",
    "\n",
    "Note that for given node sets, there is only *one* complete bigraph. Therefore, the number of (labeled) complete graphs is just the number of ways to split $n$ nodes into two sets. Here we use another counting strategy: breaking up the problem into disjoint and exhaustive cases, and adding their counts to get the total. <br>\n",
    "The sizes of the node sets must sum up to $n$, so there are $\\lfloor n/2 \\rfloor$ *distinct* partition sizes  (b/c $ \\{m,n-m\\} = \\{n-m,m\\}$): \n",
    "\n",
    "$$ \\{1,n-1\\}, \\{2,n-2\\}, \\ldots, \\{ \\lfloor n/2 \\rfloor, n - \\lfloor n/2 \\rfloor \\} ,$$\n",
    "\n",
    "where $\\lfloor n/2 \\rfloor$ is the [floor function](https://en.wikipedia.org/wiki/Floor_and_ceiling_functions). The total number of labeled complete bipartite graphs is:\n",
    "\n",
    "$$ \\sum_{i=1}^{\\lfloor n/2 \\rfloor} { n \\choose m}$$\n"
   ]
  },
  {
   "cell_type": "markdown",
   "metadata": {},
   "source": [
    "##### Connected Graphs\n",
    "\n",
    "A [connected graph](https://en.wikipedia.org/wiki/Connectivity_(graph_theory)#Connected_vertices_and_graphs) has a path between any two nodes or, in other words, it has no isolated [subgraphs](https://en.wikipedia.org/wiki/Induced_subgraph); e.g., every complete graph is connected. The number of connected graphs cannot be found directly by multiplication/factorials, so we will employ a more advanced strategy of  deriving a *recurrence relation*, which can be solve iteratively. <br>\n",
    "Let $C_k$ be the number of connected graphs with $k$ nodes. There are $2^{ {n \\choose 2} }$ possible simple graphs of $n$ nodes, and we can partition them into $n$ classes as follows: Fix a node, say $1$, and considered the maximal *connected subgraph* containing that node:\n",
    "<img src=\"./img/2/connected_subgraph.png\" alt=\"connected subgraph decomposition\" width = \"200px\"/>\n",
    "In the plot above, node $1$ belongs to an isolated, connected subgraph of size $k$, and the remaining nodes belong to another *not necessarily connected*  subgraph. There are ${n-1 \\choose k-1}$ ways to select the $k-1$ nodes (besides node $1$), and $C_k$ ways to form the connected subgraph, according to our assumption. And, independently, there are $2^{ {n-k \\choose 2} }$ ways to form the other subgraph. If combine all possible sizes $k=1,\\ldots,n$ of connected subgraphs containing node $1$, we get the total number of simple labeled graphs, i.e.:\n",
    "\n",
    "$$ \\sum_{k=1}^{n} { n-1 \\choose k-1 } C_k 2^{ { n-k \\choose 2 } } = 2^{ {n \\choose 2} } $$\n",
    "\n",
    "This relation can be used iteratively, for $C_1=1$ and increasing $n=2,\\ldots$, to find values of $C_n$. The sequence of solutions is available at [OEIS](http://oeis.org/A001187/list) (*On-Line Encyclopedia of Integer Sequences*). E.g., for $n=3$ we have $C_3=4$, verified by:\n",
    "<img src=\"./img/2/C_3.png\" alt=\"connected graphs of size 3\" width = \"300px\"/>\n"
   ]
  },
  {
   "cell_type": "markdown",
   "metadata": {},
   "source": [
    "#### Unlabeled Graphs\n",
    "\n",
    "So far we only looked at labeled graphs, i.e. graphs with distinguishable nodes. In many cases, the labeling of the nodes is not relevant, only the \"structure\" of the graph. For example, there are only 2 different unlabeled connected graphs of 3 nodes, the \"path\" and the \"triangle\":\n",
    "<img src=\"./img/2/unlabeled_C_3.png\" alt=\"connected unlabeled graphs of size 3\" width = \"150px\"/>\n",
    "Comparing that to the 4 labeled connected graphs, the 3 labeled \"path\" graphs are all equivalent to 1 unlabeled \"path\". The 3 labeled \"path\" graphs are called [isomorphic](https://en.wikipedia.org/wiki/Graph_isomorphism), because they have the same *shape*, i.e. you can rearrange their labels and get the same graph. With unlabeled graphs, we are essentially counting [equivalence classes](https://en.wikipedia.org/wiki/Equivalence_class) under isomorphism.\n",
    "\n",
    "Counting unlabeled graphs is hard, because there are varying numbers of isomorphic labeled graphs of each type. In the above example, there are 3 isomorphic \"path\" graphs, but only one \"triangle\" graph. Nevertheless, we can easily find a lower bound on the number of unlabeled simple graphs, since there are at most $n!$ permutations/rearrangements of the labels. Therefore, there are *at least*\n",
    "\n",
    "$$ \\frac{ 2^{ {n \\choose 2} } } {n!} $$\n",
    "\n",
    "simple unlabelled graphs, and this lower bound becomes tighter as $n$ increases (there are fewer isomorphisms as the graphs get larger). The are more sophisticated ways to count simple unlabeled graphs, whose counts are given [here](http://oeis.org/A000088). You can verify the count for $n=3$ from the plot below: \n"
   ]
  },
  {
   "cell_type": "code",
   "execution_count": 6,
   "metadata": {},
   "outputs": [
    {
     "data": {
      "image/png": "[encoded data removed]",
      "text/plain": [
       "<Figure size 432x288 with 4 Axes>"
      ]
     },
     "metadata": {},
     "output_type": "display_data"
    }
   ],
   "source": [
    "U = nx.graph_atlas_g() # Returns the list of all unlabeled graphs of up to seven nodes \n",
    "                       # unlabeled graphs with 3 nodes are in U[4:7] \n",
    "\n",
    "import matplotlib.pyplot as plt \n",
    "plt.subplot(1,4,1)\n",
    "nx.draw(U[4],  pos = nx.circular_layout(U[4]) )\n",
    "plt.vlines(1.2,-1,1, color = 'k', linestyles = 'dashed')\n",
    "plt.subplot(1,4,2)\n",
    "nx.draw(U[5], pos = nx.circular_layout(U[4]) )\n",
    "plt.vlines(1.2,-1,1, color = 'k', linestyles = 'dashed')\n",
    "plt.subplot(1,4,3)\n",
    "nx.draw(U[6], pos = nx.circular_layout(U[4]) )\n",
    "plt.vlines(1.2,-1,1, color = 'k', linestyles = 'dashed')\n",
    "plt.subplot(1,4,4)\n",
    "nx.draw(U[7], pos = nx.circular_layout(U[4]) )\n",
    "\n",
    "plt.subplots_adjust( right = 2, wspace=.1 )\n",
    "plt.show()"
   ]
  },
  {
   "cell_type": "markdown",
   "metadata": {},
   "source": [
    "### Problems\n",
    "\n",
    "1. Find the number of labeled, directed graphs of node size $n$ *including* possible loops.\n",
    "2. Find the number of simple [complete graphs](https://en.wikipedia.org/wiki/Complete_graph), either labeled or unlabeled.\n",
    "3. A directed, complete graph is called a [tournament](https://en.wikipedia.org/wiki/Tournament_(graph_theory)). Find the number of labeled tournaments of node size $n$.\n",
    "4. In a labeled *complete* graph of size $n$, show that the number of paths of length $0 \\le k \\le n-2 $ between two nodes is $ \\frac{ (n-2)! }{(n-2-k)! }$.\n",
    "5. Use 4. to show that the total number of paths between two nodes in a labeled complete graph of size $n$ is \n",
    "$  \\lfloor e \\cdot (n−2)!  \\rfloor$\n"
   ]
  },
  {
   "cell_type": "markdown",
   "metadata": {},
   "source": [
    "<a rel=\"license\" href=\"http://creativecommons.org/licenses/by-nc-sa/4.0/\"><img alt=\"Creative Commons License\" style=\"border-width:0\" src=\"https://i.creativecommons.org/l/by-nc-sa/4.0/88x31.png\" /></a><br />This work is licensed under a <a rel=\"license\" href=\"http://creativecommons.org/licenses/by-nc-sa/4.0/\">Creative Commons Attribution-NonCommercial-ShareAlike 4.0 International License</a>."
   ]
  }
 ],
 "metadata": {
  "anaconda-cloud": {},
  "kernelspec": {
   "display_name": "Python 3 (ipykernel)",
   "language": "python",
   "name": "python3"
  },
  "language_info": {
   "codemirror_mode": {
    "name": "ipython",
    "version": 3
   },
   "file_extension": ".py",
   "mimetype": "text/x-python",
   "name": "python",
   "nbconvert_exporter": "python",
   "pygments_lexer": "ipython3",
   "version": "3.9.12"
  }
 },
 "nbformat": 4,
 "nbformat_minor": 1
}