{
 "cells": [
  {
   "cell_type": "markdown",
   "id": "d924635f",
   "metadata": {},
   "source": [
    "## Probability Models\n",
    "\n",
    "Sets and set functions offer a general and flexible way of translating real-world random phenomena into probability models, and the standard [axioms of probability](https://en.wikipedia.org/wiki/Probability_axioms) are expressed in their terms. But collections of objects more generally also play an integral role in programming, which is why Python has built-in data stuctures such as *lists*/*tuples* (ordered/indexed), *sets* (unordered), and *dictionaries* (unordered but indexed). (Note: regular sets do not contain duplicates unless they are [multi-sets](https://en.wikipedia.org/wiki/Multiset); multisets can be represented as lists/tuples or dictionaries in Python.) <br>\n",
    "In this notebook, we will use Python to create tangible probability models that employ sets and set functions."
   ]
  },
  {
   "cell_type": "markdown",
   "id": "a71d1873",
   "metadata": {},
   "source": [
    "#### Minimal probability model \n",
    "\n",
    "Consider the classic experiment of flipping a fair coin, with outcomes represented by 'H' for heads and 'T' for tails. The sample space is $S = \\{ H, T \\}$, and define events $ A_H = \\{ H \\}, A_T = \\{ T \\}$."
   ]
  },
  {
   "cell_type": "code",
   "execution_count": 1,
   "id": "1ea58e96",
   "metadata": {},
   "outputs": [],
   "source": [
    "S = { \"H\", \"T\" }\n",
    "A_H = {\"H\"}; \n",
    "A_T = {\"T\"}"
   ]
  },
  {
   "cell_type": "markdown",
   "id": "3cc95cf7",
   "metadata": {},
   "source": [
    "You can use Python [operators](https://www.w3schools.com/python/python_operators.asp) or [functions](https://www.w3schools.com/python/python_ref_set.asp) to perform basic set operations:"
   ]
  },
  {
   "cell_type": "code",
   "execution_count": 2,
   "id": "bce52afb",
   "metadata": {},
   "outputs": [
    {
     "name": "stdout",
     "output_type": "stream",
     "text": [
      "{'H', 'T'}\n",
      "set()\n",
      "{'T'}\n"
     ]
    }
   ],
   "source": [
    "print( A_H | A_T ) # Union of A_H and A_T, same as A_H.union(A_T)\n",
    "print( A_H & A_T ) # Intersection of A_H and A_T\n",
    "print( S - A_H ) # Set difference of S excluding A_H"
   ]
  },
  {
   "cell_type": "markdown",
   "id": "bb451d41",
   "metadata": {},
   "source": [
    "For a fair coin, every outcome in the (finite) sample space has equal probability; this is known more generally as a *Discrete Uniform* probability model, with general probability function:\n",
    "$$ P(A) = \\frac{|A|}{|S|},\\quad \\forall A \\subset S$$\n",
    "We can define this set function in Python as"
   ]
  },
  {
   "cell_type": "code",
   "execution_count": 3,
   "id": "da8c5912",
   "metadata": {},
   "outputs": [],
   "source": [
    "def DU_prob( event, sample_space ):\n",
    "    print( len(event) / len(sample_space) )"
   ]
  },
  {
   "cell_type": "markdown",
   "id": "63ef8e57",
   "metadata": {},
   "source": [
    "And verify it on some basic sets"
   ]
  },
  {
   "cell_type": "code",
   "execution_count": 4,
   "id": "929b3bac",
   "metadata": {},
   "outputs": [
    {
     "name": "stdout",
     "output_type": "stream",
     "text": [
      "0.5\n",
      "1.0\n",
      "0.0\n"
     ]
    }
   ],
   "source": [
    "DU_prob( A_T , S)\n",
    "DU_prob( A_H | A_T, S )\n",
    "DU_prob( A_H & A_T, S )"
   ]
  },
  {
   "cell_type": "markdown",
   "id": "3a2c496f",
   "metadata": {},
   "source": [
    "#### Probability of Streaks\n",
    "\n",
    "Now that we have implemented our first probability model, let's look at something less trivial. Consider a *sequence* of 7 fair coin flips. We can represent the results and their order using *strings*, with 1's representing Heads and 0's representing tails. The following code populates the sample space (`add()` to empty set) with all of the $2^7=128$ outcomes by creating the binary representation (`np.binary_repr()`) of numbers from 0 to 127. "
   ]
  },
  {
   "cell_type": "code",
   "execution_count": 5,
   "id": "99485345",
   "metadata": {},
   "outputs": [],
   "source": [
    "import numpy as np\n",
    "S=set()\n",
    "for j in np.arange(128):\n",
    "    S.add( np.binary_repr(j, width = 7) )"
   ]
  },
  {
   "cell_type": "markdown",
   "id": "6ecaea34",
   "metadata": {},
   "source": [
    "Assume we are interested in the probability of a streak of 3 or more consecutive Heads, i.e. our outcome has 3 or more 1's in a row. (These type of pattern questions have many applications, such as in DNA analysis). We can look for such streak with the help of [regular expressions](https://en.wikipedia.org/wiki/Regular_expression), available in Python through the built-in `re` package. Below, we populate the event $A = ${3 or more consecutive Heads} by iterating through the elements of the sample space, checking for 3 heads, and adding them to the $A$."
   ]
  },
  {
   "cell_type": "code",
   "execution_count": 6,
   "id": "a5c9d495",
   "metadata": {},
   "outputs": [],
   "source": [
    "import re\n",
    "\n",
    "A = set()\n",
    "for outcome in S:\n",
    "    if re.search('111', outcome):\n",
    "        A.add(outcome)"
   ]
  },
  {
   "cell_type": "markdown",
   "id": "85ccdf1d",
   "metadata": {},
   "source": [
    "We can them use the discrete uniform function to find the probability of $A$"
   ]
  },
  {
   "cell_type": "code",
   "execution_count": 7,
   "id": "cdb9a676",
   "metadata": {},
   "outputs": [
    {
     "name": "stdout",
     "output_type": "stream",
     "text": [
      "0.3671875\n"
     ]
    }
   ],
   "source": [
    "DU_prob(A, S)"
   ]
  },
  {
   "cell_type": "markdown",
   "id": "af09c027",
   "metadata": {},
   "source": [
    "#### General Finite Probability Space\n",
    "\n",
    "In the previous examples, all outcomes have equal probability $1/|S|$. More generally, you want to allow every outcome to have different probability, and if you only have a finite number of outcomes, the axioms imply that the probability of every event is the sum of the probabilities of its constituent outcomes:\n",
    "$$ A = \\{s_1, \\ldots, s_n\\} \\Rightarrow \\quad P(A) = \\sum_{i=1}^n P( \\{s_i\\} ) $$\n",
    "\n",
    "In other words, the set of outcome probabilities $P(\\{s_i\\}), \\forall s_i \\in S$ with $|S|< \\infty$ determines the probability of every event, and hence the probability function $P(\\cdot)$ more generally. \n",
    "\n",
    "We implement this in Python by proving the collection of outcomes *and* their corresponding probabilities in the probabability function. Because sets are unordered, we will use lists: one for the outcomes and oe for the corresponding probabilities. The lists' indexing will represent the mapping of outcomes to probabilites (e.g. first outcome to first probability, etc).\n",
    "\n",
    "Consider the same setup of 7 coin flips, but let the coin be *biased* with probability of heads $p = 1/3$ and probability of tails $q=1-p=2/3$. Then the probability of two heads in a row is $p^2$, the probability of one head and one tails (any order) is $pq$, and so on (we will formalize why we multiply the probabilities soon). The following code calculates the probabilities of all outcomes in the sample space of 7 coin flips.\n"
   ]
  },
  {
   "cell_type": "code",
   "execution_count": 8,
   "id": "f246c21d",
   "metadata": {},
   "outputs": [
    {
     "name": "stdout",
     "output_type": "stream",
     "text": [
      "1.0000000000000009\n"
     ]
    }
   ],
   "source": [
    "S = list(S) # convert set to list\n",
    "p=1/3 # define probability of single Heads\n",
    "P = [] # initialize list of outcome probabilities\n",
    "for outcome in S: # populate outcome probabilities\n",
    "    nH = outcome.count(\"1\") \n",
    "    P.append( p**nH * (1-p)**(7-nH) )\n",
    "\n",
    "print( sum(P) ) # the sum of all probabilites should be 1 (modulo small round-off error)"
   ]
  },
  {
   "cell_type": "markdown",
   "id": "79831f26",
   "metadata": {},
   "source": [
    "We can calculate the probability of any event $A$ by adding the probabilities of its outcomes, using:"
   ]
  },
  {
   "cell_type": "code",
   "execution_count": 9,
   "id": "5a18e124",
   "metadata": {},
   "outputs": [],
   "source": [
    "def FSS_prob(A, S, P):\n",
    "    prob = 0\n",
    "    for i in range(0,len(S)):\n",
    "        if S[i] in A:\n",
    "            prob += P[i]\n",
    "    return prob\n"
   ]
  },
  {
   "cell_type": "markdown",
   "id": "0feb2d5d",
   "metadata": {},
   "source": [
    "The probability of a streak of at least 3 heads in a row in 7 flips using the biased coin is"
   ]
  },
  {
   "cell_type": "code",
   "execution_count": 10,
   "id": "bf811892",
   "metadata": {},
   "outputs": [
    {
     "name": "stdout",
     "output_type": "stream",
     "text": [
      "0.13488797439414724\n"
     ]
    }
   ],
   "source": [
    "print( FSS_prob( A, S, P) )"
   ]
  },
  {
   "cell_type": "markdown",
   "id": "5fecbf0f",
   "metadata": {},
   "source": [
    " Note that we have the same sample space and event $(S,A)$ as before, but use a different probability function $P(\\cdot)$)."
   ]
  },
  {
   "cell_type": "markdown",
   "id": "c8c17445",
   "metadata": {},
   "source": [
    "### Problems\n",
    "\n",
    "1. Assume you flip a *fair* coin 7 times and are looking for one of two patterns: $HT$ or $HH$. \n",
    "Find the probability of each pattern showing up and check which one, if any, is more likely. <br>\n"
   ]
  },
  {
   "cell_type": "markdown",
   "id": "c6a2536a",
   "metadata": {},
   "source": [
    "<a rel=\"license\" href=\"http://creativecommons.org/licenses/by/4.0/\"><img alt=\"Creative Commons License\" style=\"border-width:0\" src=\"https://i.creativecommons.org/l/by/4.0/88x31.png\" /></a><br />This work is licensed under a <a rel=\"license\" href=\"http://creativecommons.org/licenses/by/4.0/\">Creative Commons Attribution 4.0 International License</a>."
   ]
  }
 ],
 "metadata": {
  "kernelspec": {
   "display_name": "Python 3 (ipykernel)",
   "language": "python",
   "name": "python3"
  },
  "language_info": {
   "codemirror_mode": {
    "name": "ipython",
    "version": 3
   },
   "file_extension": ".py",
   "mimetype": "text/x-python",
   "name": "python",
   "nbconvert_exporter": "python",
   "pygments_lexer": "ipython3",
   "version": "3.9.12"
  }
 },
 "nbformat": 4,
 "nbformat_minor": 5
}