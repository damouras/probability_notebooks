{
 "cells": [
  {
   "cell_type": "markdown",
   "metadata": {},
   "source": [
    "## Counting \n",
    "Counting forms the basis of finite uniform probability measures, but is also fundamental to Discrete Mathematics where it is known as [Combinatorics](https://en.wikipedia.org/wiki/Combinatorics). In this notebook, we will be counting [graphs](https://en.wikipedia.org/wiki/Graph_(discrete_mathematics)), which are mathematical structures used to model pairwise *relationships* between *\"objects\"*. For example, a graph can represent a group of people and their friendships, i.e. a social network. The objects in a graph are called *nodes* or *vertices* and are represented by a *set* of items, and their relations are called *edges* and are represented by another set of *pairs* of nodes. We will use the [networkx](https://networkx.org/) package in Python to specify and visualize graphs, like the following:"
   ]
  },
  {
   "cell_type": "code",
   "execution_count": 3,
   "metadata": {
    "collapsed": true
   },
   "outputs": [],
   "source": [
    "import networkx as nx  \n",
    "G = nx.Graph()                           # initialize graph\n",
    "G.add_nodes_from( range(1,6) )           # add nodes\n",
    "G.add_edges_from( [{1,2}, {1,3}, {1,4},  # add edges \n",
    "                   {3,4}, {4,2}, {5,2} ])\n",
    "nx.draw(G, with_labels = True )          # draw graph"
   ]
  },
  {
   "cell_type": "markdown",
   "metadata": {},
   "source": [
    "#### Labeled Graphs\n",
    "We first look  at graphs with labeled/distinguishable nodes, because they are much easier to count. The node/vertice set is $V = \\{1,2,\\ldots, n\\}$, and the edge set $E \\subseteq \\{ \\{i, j\\};  i,j \\in V \\}$ consists of pairs nodes. Alternatively, a graph may be specified by its [adjacency matrix](https://en.wikipedia.org/wiki/Adjacency_matrix), which is a square ($n \\times n$) matrix with values $1/0$ representing the presence/absence of an edge between the row and column index nodes. For example, the sample graph above has adjacency matrix:\n",
    "\n",
    "##### Simple graph\n",
    "\n",
    "\n",
    "\n",
    "##### Loops\n",
    "\n",
    "Simple graphs do not contain *loops*, which are edges from a node to iteself. But certain applications require graphs with loops, like the one below.\n",
    "\n"
   ]
  },
  {
   "cell_type": "code",
   "execution_count": 2,
   "metadata": {},
   "outputs": [],
   "source": [
    "import networkx as nx\n",
    "G = nx.Graph()\n",
    "G.add_nodes_from( range(1,3) )\n",
    "G.add_edges_from( [ {1,2}, {2,3}, {1,3} ] )\n",
    "G.add_edge(1,1)\n",
    "nx.draw(G)"
   ]
  },
  {
   "cell_type": "markdown",
   "metadata": {},
   "source": [
    "If we allow loops in the above, we have $$ 2^{ {n \\choose 2} + n }$$\n",
    "We obtained this by multiplying the the number of simple graphs ($2^{n \\choose 2}$) with the number of ways to have loops, or not, in the $n$ nodes ($2^n$).\n",
    "\n",
    "\n",
    "##### Directed Graphs"
   ]
  }
 ],
 "metadata": {
  "anaconda-cloud": {},
  "kernelspec": {
   "display_name": "Python 3 (ipykernel)",
   "language": "python",
   "name": "python3"
  },
  "language_info": {
   "codemirror_mode": {
    "name": "ipython",
    "version": 3
   },
   "file_extension": ".py",
   "mimetype": "text/x-python",
   "name": "python",
   "nbconvert_exporter": "python",
   "pygments_lexer": "ipython3",
   "version": "3.9.12"
  }
 },
 "nbformat": 4,
 "nbformat_minor": 1
}
